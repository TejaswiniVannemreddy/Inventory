{
 "cells": [
  {
   "cell_type": "code",
   "execution_count": 1,
   "id": "67105918",
   "metadata": {},
   "outputs": [],
   "source": [
    "import pandas as pd\n",
    "import numpy as np\n",
    "import matplotlib.pyplot as plt"
   ]
  },
  {
   "cell_type": "code",
   "execution_count": 2,
   "id": "1e7e86e3",
   "metadata": {},
   "outputs": [],
   "source": [
    "# Load the datasets\n",
    "inventory_path =(r\"C:\\Users\\teja9\\OneDrive\\Documents\\Inventory Dataset.xlsx\")\n",
    "new_inventory_path =(r\"C:\\Users\\teja9\\OneDrive\\Documents\\New Inventory.xlsx\")"
   ]
  },
  {
   "cell_type": "code",
   "execution_count": 3,
   "id": "76a3dddf",
   "metadata": {},
   "outputs": [],
   "source": [
    "inventory_df = pd.read_excel(inventory_path)\n",
    "new_inventory_df = pd.read_excel(new_inventory_path)"
   ]
  },
  {
   "cell_type": "code",
   "execution_count": 4,
   "id": "bb234a61",
   "metadata": {},
   "outputs": [],
   "source": [
    "# Ensure the date columns are in datetime format\n",
    "inventory_df['Date'] = pd.to_datetime(inventory_df['Date'])\n",
    "new_inventory_df['Inventory Receive'] = pd.to_datetime(new_inventory_df['Inventory Receive'])"
   ]
  },
  {
   "cell_type": "code",
   "execution_count": 5,
   "id": "ba70f2ff",
   "metadata": {},
   "outputs": [],
   "source": [
    "# Create a date range for the projection\n",
    "date_range = pd.date_range(start=inventory_df['Date'].min(), end='2023-08-26', freq='D')"
   ]
  },
  {
   "cell_type": "code",
   "execution_count": 6,
   "id": "0c5ba6fe",
   "metadata": {},
   "outputs": [],
   "source": [
    "# Initialize a dataframe to store future inventory levels\n",
    "future_inventory = pd.DataFrame(columns=['Item Number', 'Date', 'Inventory'])"
   ]
  },
  {
   "cell_type": "code",
   "execution_count": 7,
   "id": "12698a81",
   "metadata": {},
   "outputs": [
    {
     "name": "stderr",
     "output_type": "stream",
     "text": [
      "C:\\Users\\teja9\\AppData\\Local\\Temp\\ipykernel_2228\\1818120912.py:6: FutureWarning: The frame.append method is deprecated and will be removed from pandas in a future version. Use pandas.concat instead.\n",
      "  future_inventory = future_inventory.append(temp_df)\n",
      "C:\\Users\\teja9\\AppData\\Local\\Temp\\ipykernel_2228\\1818120912.py:10: FutureWarning: The frame.append method is deprecated and will be removed from pandas in a future version. Use pandas.concat instead.\n",
      "  future_inventory = future_inventory.append(temp_df)\n",
      "C:\\Users\\teja9\\AppData\\Local\\Temp\\ipykernel_2228\\1818120912.py:10: FutureWarning: The frame.append method is deprecated and will be removed from pandas in a future version. Use pandas.concat instead.\n",
      "  future_inventory = future_inventory.append(temp_df)\n",
      "C:\\Users\\teja9\\AppData\\Local\\Temp\\ipykernel_2228\\1818120912.py:10: FutureWarning: The frame.append method is deprecated and will be removed from pandas in a future version. Use pandas.concat instead.\n",
      "  future_inventory = future_inventory.append(temp_df)\n",
      "C:\\Users\\teja9\\AppData\\Local\\Temp\\ipykernel_2228\\1818120912.py:10: FutureWarning: The frame.append method is deprecated and will be removed from pandas in a future version. Use pandas.concat instead.\n",
      "  future_inventory = future_inventory.append(temp_df)\n",
      "C:\\Users\\teja9\\AppData\\Local\\Temp\\ipykernel_2228\\1818120912.py:10: FutureWarning: The frame.append method is deprecated and will be removed from pandas in a future version. Use pandas.concat instead.\n",
      "  future_inventory = future_inventory.append(temp_df)\n",
      "C:\\Users\\teja9\\AppData\\Local\\Temp\\ipykernel_2228\\1818120912.py:10: FutureWarning: The frame.append method is deprecated and will be removed from pandas in a future version. Use pandas.concat instead.\n",
      "  future_inventory = future_inventory.append(temp_df)\n",
      "C:\\Users\\teja9\\AppData\\Local\\Temp\\ipykernel_2228\\1818120912.py:10: FutureWarning: The frame.append method is deprecated and will be removed from pandas in a future version. Use pandas.concat instead.\n",
      "  future_inventory = future_inventory.append(temp_df)\n",
      "C:\\Users\\teja9\\AppData\\Local\\Temp\\ipykernel_2228\\1818120912.py:10: FutureWarning: The frame.append method is deprecated and will be removed from pandas in a future version. Use pandas.concat instead.\n",
      "  future_inventory = future_inventory.append(temp_df)\n",
      "C:\\Users\\teja9\\AppData\\Local\\Temp\\ipykernel_2228\\1818120912.py:10: FutureWarning: The frame.append method is deprecated and will be removed from pandas in a future version. Use pandas.concat instead.\n",
      "  future_inventory = future_inventory.append(temp_df)\n",
      "C:\\Users\\teja9\\AppData\\Local\\Temp\\ipykernel_2228\\1818120912.py:10: FutureWarning: The frame.append method is deprecated and will be removed from pandas in a future version. Use pandas.concat instead.\n",
      "  future_inventory = future_inventory.append(temp_df)\n",
      "C:\\Users\\teja9\\AppData\\Local\\Temp\\ipykernel_2228\\1818120912.py:10: FutureWarning: The frame.append method is deprecated and will be removed from pandas in a future version. Use pandas.concat instead.\n",
      "  future_inventory = future_inventory.append(temp_df)\n",
      "C:\\Users\\teja9\\AppData\\Local\\Temp\\ipykernel_2228\\1818120912.py:10: FutureWarning: The frame.append method is deprecated and will be removed from pandas in a future version. Use pandas.concat instead.\n",
      "  future_inventory = future_inventory.append(temp_df)\n",
      "C:\\Users\\teja9\\AppData\\Local\\Temp\\ipykernel_2228\\1818120912.py:10: FutureWarning: The frame.append method is deprecated and will be removed from pandas in a future version. Use pandas.concat instead.\n",
      "  future_inventory = future_inventory.append(temp_df)\n",
      "C:\\Users\\teja9\\AppData\\Local\\Temp\\ipykernel_2228\\1818120912.py:10: FutureWarning: The frame.append method is deprecated and will be removed from pandas in a future version. Use pandas.concat instead.\n",
      "  future_inventory = future_inventory.append(temp_df)\n",
      "C:\\Users\\teja9\\AppData\\Local\\Temp\\ipykernel_2228\\1818120912.py:10: FutureWarning: The frame.append method is deprecated and will be removed from pandas in a future version. Use pandas.concat instead.\n",
      "  future_inventory = future_inventory.append(temp_df)\n",
      "C:\\Users\\teja9\\AppData\\Local\\Temp\\ipykernel_2228\\1818120912.py:10: FutureWarning: The frame.append method is deprecated and will be removed from pandas in a future version. Use pandas.concat instead.\n",
      "  future_inventory = future_inventory.append(temp_df)\n",
      "C:\\Users\\teja9\\AppData\\Local\\Temp\\ipykernel_2228\\1818120912.py:10: FutureWarning: The frame.append method is deprecated and will be removed from pandas in a future version. Use pandas.concat instead.\n",
      "  future_inventory = future_inventory.append(temp_df)\n",
      "C:\\Users\\teja9\\AppData\\Local\\Temp\\ipykernel_2228\\1818120912.py:10: FutureWarning: The frame.append method is deprecated and will be removed from pandas in a future version. Use pandas.concat instead.\n",
      "  future_inventory = future_inventory.append(temp_df)\n",
      "C:\\Users\\teja9\\AppData\\Local\\Temp\\ipykernel_2228\\1818120912.py:10: FutureWarning: The frame.append method is deprecated and will be removed from pandas in a future version. Use pandas.concat instead.\n",
      "  future_inventory = future_inventory.append(temp_df)\n",
      "C:\\Users\\teja9\\AppData\\Local\\Temp\\ipykernel_2228\\1818120912.py:10: FutureWarning: The frame.append method is deprecated and will be removed from pandas in a future version. Use pandas.concat instead.\n",
      "  future_inventory = future_inventory.append(temp_df)\n",
      "C:\\Users\\teja9\\AppData\\Local\\Temp\\ipykernel_2228\\1818120912.py:10: FutureWarning: The frame.append method is deprecated and will be removed from pandas in a future version. Use pandas.concat instead.\n",
      "  future_inventory = future_inventory.append(temp_df)\n",
      "C:\\Users\\teja9\\AppData\\Local\\Temp\\ipykernel_2228\\1818120912.py:10: FutureWarning: The frame.append method is deprecated and will be removed from pandas in a future version. Use pandas.concat instead.\n",
      "  future_inventory = future_inventory.append(temp_df)\n",
      "C:\\Users\\teja9\\AppData\\Local\\Temp\\ipykernel_2228\\1818120912.py:10: FutureWarning: The frame.append method is deprecated and will be removed from pandas in a future version. Use pandas.concat instead.\n",
      "  future_inventory = future_inventory.append(temp_df)\n",
      "C:\\Users\\teja9\\AppData\\Local\\Temp\\ipykernel_2228\\1818120912.py:10: FutureWarning: The frame.append method is deprecated and will be removed from pandas in a future version. Use pandas.concat instead.\n",
      "  future_inventory = future_inventory.append(temp_df)\n",
      "C:\\Users\\teja9\\AppData\\Local\\Temp\\ipykernel_2228\\1818120912.py:10: FutureWarning: The frame.append method is deprecated and will be removed from pandas in a future version. Use pandas.concat instead.\n",
      "  future_inventory = future_inventory.append(temp_df)\n",
      "C:\\Users\\teja9\\AppData\\Local\\Temp\\ipykernel_2228\\1818120912.py:10: FutureWarning: The frame.append method is deprecated and will be removed from pandas in a future version. Use pandas.concat instead.\n",
      "  future_inventory = future_inventory.append(temp_df)\n",
      "C:\\Users\\teja9\\AppData\\Local\\Temp\\ipykernel_2228\\1818120912.py:10: FutureWarning: The frame.append method is deprecated and will be removed from pandas in a future version. Use pandas.concat instead.\n",
      "  future_inventory = future_inventory.append(temp_df)\n",
      "C:\\Users\\teja9\\AppData\\Local\\Temp\\ipykernel_2228\\1818120912.py:10: FutureWarning: The frame.append method is deprecated and will be removed from pandas in a future version. Use pandas.concat instead.\n",
      "  future_inventory = future_inventory.append(temp_df)\n",
      "C:\\Users\\teja9\\AppData\\Local\\Temp\\ipykernel_2228\\1818120912.py:10: FutureWarning: The frame.append method is deprecated and will be removed from pandas in a future version. Use pandas.concat instead.\n",
      "  future_inventory = future_inventory.append(temp_df)\n",
      "C:\\Users\\teja9\\AppData\\Local\\Temp\\ipykernel_2228\\1818120912.py:10: FutureWarning: The frame.append method is deprecated and will be removed from pandas in a future version. Use pandas.concat instead.\n",
      "  future_inventory = future_inventory.append(temp_df)\n",
      "C:\\Users\\teja9\\AppData\\Local\\Temp\\ipykernel_2228\\1818120912.py:10: FutureWarning: The frame.append method is deprecated and will be removed from pandas in a future version. Use pandas.concat instead.\n",
      "  future_inventory = future_inventory.append(temp_df)\n",
      "C:\\Users\\teja9\\AppData\\Local\\Temp\\ipykernel_2228\\1818120912.py:10: FutureWarning: The frame.append method is deprecated and will be removed from pandas in a future version. Use pandas.concat instead.\n",
      "  future_inventory = future_inventory.append(temp_df)\n",
      "C:\\Users\\teja9\\AppData\\Local\\Temp\\ipykernel_2228\\1818120912.py:10: FutureWarning: The frame.append method is deprecated and will be removed from pandas in a future version. Use pandas.concat instead.\n",
      "  future_inventory = future_inventory.append(temp_df)\n",
      "C:\\Users\\teja9\\AppData\\Local\\Temp\\ipykernel_2228\\1818120912.py:10: FutureWarning: The frame.append method is deprecated and will be removed from pandas in a future version. Use pandas.concat instead.\n",
      "  future_inventory = future_inventory.append(temp_df)\n",
      "C:\\Users\\teja9\\AppData\\Local\\Temp\\ipykernel_2228\\1818120912.py:10: FutureWarning: The frame.append method is deprecated and will be removed from pandas in a future version. Use pandas.concat instead.\n",
      "  future_inventory = future_inventory.append(temp_df)\n",
      "C:\\Users\\teja9\\AppData\\Local\\Temp\\ipykernel_2228\\1818120912.py:10: FutureWarning: The frame.append method is deprecated and will be removed from pandas in a future version. Use pandas.concat instead.\n",
      "  future_inventory = future_inventory.append(temp_df)\n",
      "C:\\Users\\teja9\\AppData\\Local\\Temp\\ipykernel_2228\\1818120912.py:10: FutureWarning: The frame.append method is deprecated and will be removed from pandas in a future version. Use pandas.concat instead.\n",
      "  future_inventory = future_inventory.append(temp_df)\n",
      "C:\\Users\\teja9\\AppData\\Local\\Temp\\ipykernel_2228\\1818120912.py:10: FutureWarning: The frame.append method is deprecated and will be removed from pandas in a future version. Use pandas.concat instead.\n",
      "  future_inventory = future_inventory.append(temp_df)\n",
      "C:\\Users\\teja9\\AppData\\Local\\Temp\\ipykernel_2228\\1818120912.py:10: FutureWarning: The frame.append method is deprecated and will be removed from pandas in a future version. Use pandas.concat instead.\n",
      "  future_inventory = future_inventory.append(temp_df)\n",
      "C:\\Users\\teja9\\AppData\\Local\\Temp\\ipykernel_2228\\1818120912.py:10: FutureWarning: The frame.append method is deprecated and will be removed from pandas in a future version. Use pandas.concat instead.\n",
      "  future_inventory = future_inventory.append(temp_df)\n",
      "C:\\Users\\teja9\\AppData\\Local\\Temp\\ipykernel_2228\\1818120912.py:10: FutureWarning: The frame.append method is deprecated and will be removed from pandas in a future version. Use pandas.concat instead.\n",
      "  future_inventory = future_inventory.append(temp_df)\n"
     ]
    },
    {
     "name": "stderr",
     "output_type": "stream",
     "text": [
      "C:\\Users\\teja9\\AppData\\Local\\Temp\\ipykernel_2228\\1818120912.py:10: FutureWarning: The frame.append method is deprecated and will be removed from pandas in a future version. Use pandas.concat instead.\n",
      "  future_inventory = future_inventory.append(temp_df)\n",
      "C:\\Users\\teja9\\AppData\\Local\\Temp\\ipykernel_2228\\1818120912.py:10: FutureWarning: The frame.append method is deprecated and will be removed from pandas in a future version. Use pandas.concat instead.\n",
      "  future_inventory = future_inventory.append(temp_df)\n",
      "C:\\Users\\teja9\\AppData\\Local\\Temp\\ipykernel_2228\\1818120912.py:10: FutureWarning: The frame.append method is deprecated and will be removed from pandas in a future version. Use pandas.concat instead.\n",
      "  future_inventory = future_inventory.append(temp_df)\n",
      "C:\\Users\\teja9\\AppData\\Local\\Temp\\ipykernel_2228\\1818120912.py:10: FutureWarning: The frame.append method is deprecated and will be removed from pandas in a future version. Use pandas.concat instead.\n",
      "  future_inventory = future_inventory.append(temp_df)\n",
      "C:\\Users\\teja9\\AppData\\Local\\Temp\\ipykernel_2228\\1818120912.py:10: FutureWarning: The frame.append method is deprecated and will be removed from pandas in a future version. Use pandas.concat instead.\n",
      "  future_inventory = future_inventory.append(temp_df)\n",
      "C:\\Users\\teja9\\AppData\\Local\\Temp\\ipykernel_2228\\1818120912.py:10: FutureWarning: The frame.append method is deprecated and will be removed from pandas in a future version. Use pandas.concat instead.\n",
      "  future_inventory = future_inventory.append(temp_df)\n",
      "C:\\Users\\teja9\\AppData\\Local\\Temp\\ipykernel_2228\\1818120912.py:10: FutureWarning: The frame.append method is deprecated and will be removed from pandas in a future version. Use pandas.concat instead.\n",
      "  future_inventory = future_inventory.append(temp_df)\n",
      "C:\\Users\\teja9\\AppData\\Local\\Temp\\ipykernel_2228\\1818120912.py:10: FutureWarning: The frame.append method is deprecated and will be removed from pandas in a future version. Use pandas.concat instead.\n",
      "  future_inventory = future_inventory.append(temp_df)\n",
      "C:\\Users\\teja9\\AppData\\Local\\Temp\\ipykernel_2228\\1818120912.py:10: FutureWarning: The frame.append method is deprecated and will be removed from pandas in a future version. Use pandas.concat instead.\n",
      "  future_inventory = future_inventory.append(temp_df)\n",
      "C:\\Users\\teja9\\AppData\\Local\\Temp\\ipykernel_2228\\1818120912.py:10: FutureWarning: The frame.append method is deprecated and will be removed from pandas in a future version. Use pandas.concat instead.\n",
      "  future_inventory = future_inventory.append(temp_df)\n",
      "C:\\Users\\teja9\\AppData\\Local\\Temp\\ipykernel_2228\\1818120912.py:10: FutureWarning: The frame.append method is deprecated and will be removed from pandas in a future version. Use pandas.concat instead.\n",
      "  future_inventory = future_inventory.append(temp_df)\n",
      "C:\\Users\\teja9\\AppData\\Local\\Temp\\ipykernel_2228\\1818120912.py:10: FutureWarning: The frame.append method is deprecated and will be removed from pandas in a future version. Use pandas.concat instead.\n",
      "  future_inventory = future_inventory.append(temp_df)\n",
      "C:\\Users\\teja9\\AppData\\Local\\Temp\\ipykernel_2228\\1818120912.py:10: FutureWarning: The frame.append method is deprecated and will be removed from pandas in a future version. Use pandas.concat instead.\n",
      "  future_inventory = future_inventory.append(temp_df)\n",
      "C:\\Users\\teja9\\AppData\\Local\\Temp\\ipykernel_2228\\1818120912.py:10: FutureWarning: The frame.append method is deprecated and will be removed from pandas in a future version. Use pandas.concat instead.\n",
      "  future_inventory = future_inventory.append(temp_df)\n",
      "C:\\Users\\teja9\\AppData\\Local\\Temp\\ipykernel_2228\\1818120912.py:10: FutureWarning: The frame.append method is deprecated and will be removed from pandas in a future version. Use pandas.concat instead.\n",
      "  future_inventory = future_inventory.append(temp_df)\n",
      "C:\\Users\\teja9\\AppData\\Local\\Temp\\ipykernel_2228\\1818120912.py:10: FutureWarning: The frame.append method is deprecated and will be removed from pandas in a future version. Use pandas.concat instead.\n",
      "  future_inventory = future_inventory.append(temp_df)\n",
      "C:\\Users\\teja9\\AppData\\Local\\Temp\\ipykernel_2228\\1818120912.py:10: FutureWarning: The frame.append method is deprecated and will be removed from pandas in a future version. Use pandas.concat instead.\n",
      "  future_inventory = future_inventory.append(temp_df)\n",
      "C:\\Users\\teja9\\AppData\\Local\\Temp\\ipykernel_2228\\1818120912.py:10: FutureWarning: The frame.append method is deprecated and will be removed from pandas in a future version. Use pandas.concat instead.\n",
      "  future_inventory = future_inventory.append(temp_df)\n",
      "C:\\Users\\teja9\\AppData\\Local\\Temp\\ipykernel_2228\\1818120912.py:10: FutureWarning: The frame.append method is deprecated and will be removed from pandas in a future version. Use pandas.concat instead.\n",
      "  future_inventory = future_inventory.append(temp_df)\n",
      "C:\\Users\\teja9\\AppData\\Local\\Temp\\ipykernel_2228\\1818120912.py:10: FutureWarning: The frame.append method is deprecated and will be removed from pandas in a future version. Use pandas.concat instead.\n",
      "  future_inventory = future_inventory.append(temp_df)\n",
      "C:\\Users\\teja9\\AppData\\Local\\Temp\\ipykernel_2228\\1818120912.py:10: FutureWarning: The frame.append method is deprecated and will be removed from pandas in a future version. Use pandas.concat instead.\n",
      "  future_inventory = future_inventory.append(temp_df)\n",
      "C:\\Users\\teja9\\AppData\\Local\\Temp\\ipykernel_2228\\1818120912.py:10: FutureWarning: The frame.append method is deprecated and will be removed from pandas in a future version. Use pandas.concat instead.\n",
      "  future_inventory = future_inventory.append(temp_df)\n",
      "C:\\Users\\teja9\\AppData\\Local\\Temp\\ipykernel_2228\\1818120912.py:10: FutureWarning: The frame.append method is deprecated and will be removed from pandas in a future version. Use pandas.concat instead.\n",
      "  future_inventory = future_inventory.append(temp_df)\n",
      "C:\\Users\\teja9\\AppData\\Local\\Temp\\ipykernel_2228\\1818120912.py:10: FutureWarning: The frame.append method is deprecated and will be removed from pandas in a future version. Use pandas.concat instead.\n",
      "  future_inventory = future_inventory.append(temp_df)\n",
      "C:\\Users\\teja9\\AppData\\Local\\Temp\\ipykernel_2228\\1818120912.py:10: FutureWarning: The frame.append method is deprecated and will be removed from pandas in a future version. Use pandas.concat instead.\n",
      "  future_inventory = future_inventory.append(temp_df)\n",
      "C:\\Users\\teja9\\AppData\\Local\\Temp\\ipykernel_2228\\1818120912.py:10: FutureWarning: The frame.append method is deprecated and will be removed from pandas in a future version. Use pandas.concat instead.\n",
      "  future_inventory = future_inventory.append(temp_df)\n",
      "C:\\Users\\teja9\\AppData\\Local\\Temp\\ipykernel_2228\\1818120912.py:10: FutureWarning: The frame.append method is deprecated and will be removed from pandas in a future version. Use pandas.concat instead.\n",
      "  future_inventory = future_inventory.append(temp_df)\n",
      "C:\\Users\\teja9\\AppData\\Local\\Temp\\ipykernel_2228\\1818120912.py:10: FutureWarning: The frame.append method is deprecated and will be removed from pandas in a future version. Use pandas.concat instead.\n",
      "  future_inventory = future_inventory.append(temp_df)\n",
      "C:\\Users\\teja9\\AppData\\Local\\Temp\\ipykernel_2228\\1818120912.py:10: FutureWarning: The frame.append method is deprecated and will be removed from pandas in a future version. Use pandas.concat instead.\n",
      "  future_inventory = future_inventory.append(temp_df)\n"
     ]
    }
   ],
   "source": [
    "# Populate the dataframe with existing inventory levels\n",
    "for date in date_range:\n",
    "    if date == inventory_df['Date'].min():\n",
    "        temp_df = inventory_df[['Item Number', 'Inventory']].copy()\n",
    "        temp_df['Date'] = date\n",
    "        future_inventory = future_inventory.append(temp_df)\n",
    "    else:\n",
    "        temp_df = future_inventory[future_inventory['Date'] == date - pd.Timedelta(days=1)].copy()\n",
    "        temp_df['Date'] = date\n",
    "        future_inventory = future_inventory.append(temp_df)"
   ]
  },
  {
   "cell_type": "code",
   "execution_count": 8,
   "id": "acc3b9da",
   "metadata": {},
   "outputs": [],
   "source": [
    "# Update the inventory based on new inventory arrivals\n",
    "for _, row in new_inventory_df.iterrows():\n",
    "    item = row['Item Number']\n",
    "    date = row['Inventory Receive']\n",
    "    qty = row['Total Item Qty']\n",
    "    future_inventory.loc[(future_inventory['Item Number'] == item) & (future_inventory['Date'] >= date), 'Inventory'] += qty"
   ]
  },
  {
   "cell_type": "code",
   "execution_count": 19,
   "id": "abc52d4f",
   "metadata": {},
   "outputs": [
    {
     "name": "stdout",
     "output_type": "stream",
     "text": [
      "   Item Number       Date  Inventory\n",
      "0  064-01-1347 2023-06-17       3561\n",
      "1  064-01-1361 2023-06-17       4035\n",
      "2  064-01-1375 2023-06-17       2684\n",
      "3  064-01-1385 2023-06-17       5136\n",
      "4  064-01-1399 2023-06-17       6399\n"
     ]
    }
   ],
   "source": [
    "# Convert the Inventory column to numeric for aggregation\n",
    "future_inventory['Inventory'] = pd.to_numeric(future_inventory['Inventory'], errors='coerce')\n",
    "print(future_inventory.head())"
   ]
  },
  {
   "cell_type": "code",
   "execution_count": 20,
   "id": "d1f93b5f",
   "metadata": {},
   "outputs": [
    {
     "name": "stdout",
     "output_type": "stream",
     "text": [
      "         Inventory\n",
      "Date              \n",
      "2023-06   19432476\n",
      "2023-07   57031770\n",
      "2023-08   63446350\n"
     ]
    },
    {
     "name": "stderr",
     "output_type": "stream",
     "text": [
      "C:\\Users\\teja9\\AppData\\Local\\Temp\\ipykernel_2228\\2817026816.py:2: FutureWarning: The default value of numeric_only in DataFrameGroupBy.sum is deprecated. In a future version, numeric_only will default to False. Either specify numeric_only or select only columns which should be valid for the function.\n",
      "  monthly_totals = future_inventory.groupby(future_inventory['Date'].dt.to_period('M')).sum()\n"
     ]
    }
   ],
   "source": [
    "# Group by month and sum the inventory\n",
    "monthly_totals = future_inventory.groupby(future_inventory['Date'].dt.to_period('M')).sum()\n",
    "print(monthly_totals)"
   ]
  },
  {
   "cell_type": "code",
   "execution_count": 24,
   "id": "aaadfdb0",
   "metadata": {},
   "outputs": [
    {
     "name": "stdout",
     "output_type": "stream",
     "text": [
      "   Item Number       Date  Inventory\n",
      "0  064-01-1347 2023-06-17       3561\n",
      "1  064-01-1361 2023-06-17       4035\n",
      "2  064-01-1375 2023-06-17       2684\n",
      "3  064-01-1385 2023-06-17       5136\n",
      "4  064-01-1399 2023-06-17       6399\n",
      "   Item Number Inventory Receive  Total Item Qty\n",
      "0  064-13-0002        2023-07-07             700\n",
      "1  064-13-0338        2023-07-07            1700\n",
      "2  064-13-0340        2023-07-07            1000\n",
      "3  064-13-0353        2023-07-07            1900\n",
      "4  064-13-0416        2023-07-07            1000\n"
     ]
    }
   ],
   "source": [
    "print(inventory_df.head())\n",
    "print(new_inventory_df.head())"
   ]
  },
  {
   "cell_type": "code",
   "execution_count": 25,
   "id": "16fa522b",
   "metadata": {},
   "outputs": [
    {
     "data": {
      "text/plain": [
       "<Figure size 1200x600 with 0 Axes>"
      ]
     },
     "metadata": {},
     "output_type": "display_data"
    },
    {
     "data": {
      "image/png": "[encoded data removed]",
      "text/plain": [
       "<Figure size 640x480 with 1 Axes>"
      ]
     },
     "metadata": {},
     "output_type": "display_data"
    }
   ],
   "source": [
    "# Plotting the bar chart\n",
    "plt.figure(figsize=(12, 6))\n",
    "monthly_totals.plot(kind='bar', color='skyblue', legend=False)\n",
    "plt.title('Total Monthly Inventory Levels')\n",
    "plt.xlabel('Month')\n",
    "plt.ylabel('Total Inventory')\n",
    "plt.xticks(rotation=45)\n",
    "plt.grid(axis='y')\n",
    "plt.tight_layout()\n",
    "plt.show()"
   ]
  },
  {
   "cell_type": "code",
   "execution_count": null,
   "id": "1e81c1aa",
   "metadata": {},
   "outputs": [],
   "source": []
  }
 ],
 "metadata": {
  "kernelspec": {
   "display_name": "Python 3 (ipykernel)",
   "language": "python",
   "name": "python3"
  },
  "language_info": {
   "codemirror_mode": {
    "name": "ipython",
    "version": 3
   },
   "file_extension": ".py",
   "mimetype": "text/x-python",
   "name": "python",
   "nbconvert_exporter": "python",
   "pygments_lexer": "ipython3",
   "version": "3.10.9"
  }
 },
 "nbformat": 4,
 "nbformat_minor": 5
}
